{
 "cells": [
  {
   "cell_type": "code",
   "execution_count": null,
   "metadata": {},
   "outputs": [],
   "source": [
    "import os\n",
    "import numpy as np\n",
    "import pandas as pd\n",
    "from scipy.stats import genextreme\n",
    "import joblib\n",
    "#From pdf page 3.3.4.1. We generate data from a Weibull distribution\n",
    "# location parameter (loc) = b\n",
    "# scale parameter (scale) = a\n",
    "# shape parameter (c) = k"
   ]
  },
  {
   "cell_type": "code",
   "execution_count": null,
   "metadata": {},
   "outputs": [],
   "source": [
    "######### taken from config.py #########\n",
    "k_set = [0.2, 0.4, 0.6, 0.8, 1.0, 1.2]\n",
    "a_set = [27, 27.555555555555557, 30.333333333333332, 35.333333333333336, 40.333333333333336, 45.333333333333336] \n",
    "b_set = [10, 13.88888888888889, 17.77777777777778, 21.666666666666668, 25.555555555555557, 28.333333333333332]\n"
   ]
  },
  {
   "cell_type": "code",
   "execution_count": 103,
   "metadata": {},
   "outputs": [],
   "source": [
    "k_set = [0.1, 0.5, 0.8, 1.2]\n",
    "a_set = [27, 28.579, 35.421, 45.421] \n",
    "b_set = [10, 15.789, 21.579, 28.421]"
   ]
  },
  {
   "cell_type": "code",
   "execution_count": 105,
   "metadata": {},
   "outputs": [
    {
     "name": "stdout",
     "output_type": "stream",
     "text": [
      "/Users/matteovalle/Documents/GitHub/vallematteo.github.io/vallematteo.github.io/flood_credit_risk_abm\n"
     ]
    }
   ],
   "source": [
    "num_rows = 1500\n",
    "data = {}\n",
    "for i, (k, a, b) in enumerate(zip(k_set, a_set, b_set), start=1):\n",
    "   generated_data = genextreme.rvs(c=k, loc=b, scale=a, size=num_rows)\n",
    "   data[f'set{i}'] = generated_data\n",
    "data['set0'] = 0\n",
    "# Convert the dictionary to a DataFrame\n",
    "df = pd.DataFrame(data)\n",
    "\n",
    "ROOT_DIR = os.getcwd()\n",
    "print(ROOT_DIR)\n",
    "FOLDER = ROOT_DIR + '/' + 'preparation'\n",
    "df.to_csv(FOLDER+ '/' + 'gev_config3.csv', index=False)"
   ]
  },
  {
   "cell_type": "code",
   "execution_count": 5,
   "metadata": {},
   "outputs": [
    {
     "name": "stdout",
     "output_type": "stream",
     "text": [
      "count    1000.000000\n",
      "mean       30.986406\n",
      "std        10.442102\n",
      "min         3.117514\n",
      "25%        23.769199\n",
      "50%        29.852501\n",
      "75%        38.517641\n",
      "max        65.100388\n",
      "Name: set1, dtype: float64\n"
     ]
    },
    {
     "data": {
      "text/plain": [
       "<Axes: ylabel='Frequency'>"
      ]
     },
     "execution_count": 5,
     "metadata": {},
     "output_type": "execute_result"
    },
    {
     "data": {
      "image/png": "[encoded data removed]",
      "text/plain": [
       "<Figure size 640x480 with 1 Axes>"
      ]
     },
     "metadata": {},
     "output_type": "display_data"
    }
   ],
   "source": [
    "#print the distribution of trhe first set\n",
    "print(df['set1'].describe())\n",
    "#print the plot\n",
    "df['set1'].plot(kind='hist', bins=100)\n"
   ]
  },
  {
   "cell_type": "code",
   "execution_count": null,
   "metadata": {},
   "outputs": [],
   "source": [
    "ing_samples = ing_kde.sample(1000)\n",
    "nvm_samples = nvm_kde.sample(1000)\n",
    "\n",
    "# Plot the distributions of the samples\n",
    "plt.figure(figsize=(12, 6))\n",
    "\n",
    "# Plot for ing_kde samples\n",
    "plt.subplot(1, 2, 1)\n",
    "plt.hist(ing_samples, bins=30, density=True, alpha=0.6, color='g')\n",
    "plt.title('Distribution of ing_kde Samples')\n",
    "plt.xlabel('Value')\n",
    "plt.ylabel('Density')\n",
    "\n",
    "# Plot for nvm_kde samples\n",
    "plt.subplot(1, 2, 2)\n",
    "plt.hist(nvm_samples, bins=30, density=True, alpha=0.6, color='b')\n",
    "plt.title('Distribution of nvm_kde Samples')\n",
    "plt.xlabel('Value')\n",
    "plt.ylabel('Density')\n",
    "\n",
    "plt.tight_layout()\n",
    "plt.show()"
   ]
  },
  {
   "cell_type": "code",
   "execution_count": 13,
   "metadata": {},
   "outputs": [
    {
     "name": "stderr",
     "output_type": "stream",
     "text": [
      "/Users/matteovalle/anaconda3/envs/Norma/lib/python3.11/site-packages/sklearn/base.py:347: InconsistentVersionWarning: Trying to unpickle estimator KernelDensity from version 1.3.2 when using version 1.3.0. This might lead to breaking code or invalid results. Use at your own risk. For more info please refer to:\n",
      "https://scikit-learn.org/stable/model_persistence.html#security-maintainability-limitations\n",
      "  warnings.warn(\n"
     ]
    }
   ],
   "source": [
    "paths = ['kde_model_3d.joblib', 'kde_model_nvm.joblib']\n",
    "ing_kde = joblib.load(FOLDER + '/' + paths[0])\n",
    "nvm_kde = joblib.load(FOLDER + '/' + paths[1])"
   ]
  },
  {
   "cell_type": "code",
   "execution_count": 98,
   "metadata": {},
   "outputs": [
    {
     "data": {
      "text/plain": [
       "array([[873.211535  , 177.18479122]])"
      ]
     },
     "execution_count": 98,
     "metadata": {},
     "output_type": "execute_result"
    }
   ],
   "source": [
    "#from model.py line 169 SHOULD OUTPUT 3 VALUES\n",
    "# income, job_since, ratio cap respectively\n",
    "#income, seniority, r_cap = ing_kde.sample(1)[0]\n",
    "ing_kde.sample(1)"
   ]
  },
  {
   "cell_type": "code",
   "execution_count": 71,
   "metadata": {},
   "outputs": [
    {
     "data": {
      "text/plain": [
       "array([334.63029264, 537.98975269])"
      ]
     },
     "execution_count": 71,
     "metadata": {},
     "output_type": "execute_result"
    }
   ],
   "source": [
    "nvm_kde.sample(1)[0]"
   ]
  },
  {
   "cell_type": "code",
   "execution_count": 22,
   "metadata": {},
   "outputs": [
    {
     "ename": "AttributeError",
     "evalue": "'KernelDensity' object has no attribute 'dataset'",
     "output_type": "error",
     "traceback": [
      "\u001b[0;31m---------------------------------------------------------------------------\u001b[0m",
      "\u001b[0;31mAttributeError\u001b[0m                            Traceback (most recent call last)",
      "Cell \u001b[0;32mIn[22], line 1\u001b[0m\n\u001b[0;32m----> 1\u001b[0m data \u001b[38;5;241m=\u001b[39m \u001b[43ming_kde\u001b[49m\u001b[38;5;241;43m.\u001b[39;49m\u001b[43mdataset\u001b[49m\n",
      "\u001b[0;31mAttributeError\u001b[0m: 'KernelDensity' object has no attribute 'dataset'"
     ]
    }
   ],
   "source": [
    "data = ing_kde.dataset"
   ]
  },
  {
   "cell_type": "code",
   "execution_count": 24,
   "metadata": {},
   "outputs": [
    {
     "name": "stdout",
     "output_type": "stream",
     "text": [
      "[[ 140.59767371  284.55568533]\n",
      " [  97.78689136  297.25942908]\n",
      " [  84.70421456  254.21122586]\n",
      " [ 207.76206329  454.2137822 ]\n",
      " [ 259.74047503 1039.42519681]]\n"
     ]
    }
   ],
   "source": [
    "samples = nvm_kde.sample(5)\n",
    "print(samples)"
   ]
  },
  {
   "cell_type": "code",
   "execution_count": 34,
   "metadata": {},
   "outputs": [
    {
     "name": "stdout",
     "output_type": "stream",
     "text": [
      "[3854.99784154  358.8207936 ]\n"
     ]
    }
   ],
   "source": [
    "print(ing_kde.sample(1)[0])"
   ]
  },
  {
   "cell_type": "code",
   "execution_count": 93,
   "metadata": {},
   "outputs": [
    {
     "data": {
      "text/plain": [
       "1351.635978371731"
      ]
     },
     "execution_count": 93,
     "metadata": {},
     "output_type": "execute_result"
    }
   ],
   "source": [
    "from scipy.stats import burr\n",
    "income = burr.rvs(c=3.30, d=0.45, loc=-12.76, scale=3101.46)\n",
    "income"
   ]
  }
 ],
 "metadata": {
  "kernelspec": {
   "display_name": "Norma",
   "language": "python",
   "name": "python3"
  },
  "language_info": {
   "codemirror_mode": {
    "name": "ipython",
    "version": 3
   },
   "file_extension": ".py",
   "mimetype": "text/x-python",
   "name": "python",
   "nbconvert_exporter": "python",
   "pygments_lexer": "ipython3",
   "version": "3.11.7"
  }
 },
 "nbformat": 4,
 "nbformat_minor": 2
}
